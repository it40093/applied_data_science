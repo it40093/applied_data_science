{
    "nbformat_minor": 1, 
    "cells": [
        {
            "source": "# The Battle of Neighboroughs - Part 1", 
            "cell_type": "markdown", 
            "metadata": {}
        }, 
        {
            "source": "## Background of the Business Problem", 
            "cell_type": "markdown", 
            "metadata": {}
        }, 
        {
            "source": "Milan, a metropolis in Italy's northern Lombardy region, is a global capital of fashion and design. Home to the national stock exchange, it\u2019s a financial hub also known for its high-end restaurants and shops. Milan is definitely one of the best places to start up a new business.\nDuring the daytime, specially in the morning and lunch hours, office areas provide huge opportunities for coffee shops. Reasonably priced shops are usually always full during the lunch hours (11 am\u200a\u2014\u200a2 pm) and, given this scenario, we will go through the benefits and pitfalls of opening a breakfast cum lunch coffee shop in highly densed office places. \nThe core of Milano is made of 9 municipalities but, I will later concentrate on 4 most busiest business boroughs of Milan: Centro Storico, Stazione Centrale, Citt\u00e0 Studi and Porta Garibaldi to target daily office workers.\nWe will go through each step of this project and address them separately. I first outline the initial data preparation and describe future steps to start the battle of neighborhoods in Milan\n", 
            "cell_type": "markdown", 
            "metadata": {}
        }, 
        {
            "source": "## Preparation for Data (Data Section)", 
            "cell_type": "markdown", 
            "metadata": {}
        }, 
        {
            "source": "Importing Libraries", 
            "cell_type": "markdown", 
            "metadata": {}
        }, 
        {
            "source": "import requests\nimport json\n\nimport matplotlib.pyplot as plt\nimport matplotlib.cm as cm\nimport matplotlib.colors as colors\n\nfrom bs4 import BeautifulSoup\nimport pandas as pd\nimport numpy as np", 
            "cell_type": "code", 
            "metadata": {}, 
            "outputs": [], 
            "execution_count": 137
        }, 
        {
            "source": "### Get table of municipalities of Milan from Wikipedia page", 
            "cell_type": "markdown", 
            "metadata": {}
        }, 
        {
            "source": "We use BeautifulSoup library for scraping the web page", 
            "cell_type": "markdown", 
            "metadata": {}
        }, 
        {
            "source": "response = requests.get('https://en.wikipedia.org/wiki/Zones_of_Milan').text\nsoup = BeautifulSoup(response,'lxml')\ntable = soup.find('table', {'class':'wikitable sortable'})", 
            "cell_type": "code", 
            "metadata": {}, 
            "outputs": [], 
            "execution_count": 138
        }, 
        {
            "source": "table_rows = table.find_all('tr')\n\nres = []\nfor tr in table_rows:\n    td = tr.find_all('td')\n    row = [tr.text.strip() for tr in td if tr.text.strip()]\n    if row:\n        res.append(row)\n\n\ndf = pd.DataFrame(res, columns=[\"Num\", \"LongName\", \"Area\", \"Population\",\"Density\", \"Districts\"])\n#remove column Districts\ndf = df.drop(columns=['Districts'])\ndf", 
            "cell_type": "code", 
            "metadata": {}, 
            "outputs": [
                {
                    "output_type": "execute_result", 
                    "data": {
                        "text/plain": "  Num                                           LongName   Area Population  \\\n0   1                                     Centro storico   9.67     96,315   \n1   2  Stazione Centrale, Gorla, Turro, Greco, Cresce...  12.58    153.109   \n2   3               Citt\u00e0 Studi, Lambrate, Porta Venezia  14.23    141,229   \n3   4                          Porta Vittoria, Forlanini  20.95    156.369   \n4   5                Vigentino, Chiaravalle, Gratosoglio  29.87    123,779   \n5   6                                Barona, Lorenteggio  18.28    149,000   \n6   7                        Baggio, De Angeli, San Siro  31.34    170,814   \n7   8                 Fiera, Gallaratese, Quarto Oggiaro  23.72    181,669   \n8   9                          Porta Garibaldi, Niguarda  21.12    181,598   \n\n  Density  \n0  11,074  \n1  13,031  \n2  10,785  \n3   8,069  \n4   4,487  \n5   8,998  \n6   6,093  \n7   8,326  \n8   9,204  ", 
                        "text/html": "<div>\n<style scoped>\n    .dataframe tbody tr th:only-of-type {\n        vertical-align: middle;\n    }\n\n    .dataframe tbody tr th {\n        vertical-align: top;\n    }\n\n    .dataframe thead th {\n        text-align: right;\n    }\n</style>\n<table border=\"1\" class=\"dataframe\">\n  <thead>\n    <tr style=\"text-align: right;\">\n      <th></th>\n      <th>Num</th>\n      <th>LongName</th>\n      <th>Area</th>\n      <th>Population</th>\n      <th>Density</th>\n    </tr>\n  </thead>\n  <tbody>\n    <tr>\n      <th>0</th>\n      <td>1</td>\n      <td>Centro storico</td>\n      <td>9.67</td>\n      <td>96,315</td>\n      <td>11,074</td>\n    </tr>\n    <tr>\n      <th>1</th>\n      <td>2</td>\n      <td>Stazione Centrale, Gorla, Turro, Greco, Cresce...</td>\n      <td>12.58</td>\n      <td>153.109</td>\n      <td>13,031</td>\n    </tr>\n    <tr>\n      <th>2</th>\n      <td>3</td>\n      <td>Citt\u00e0 Studi, Lambrate, Porta Venezia</td>\n      <td>14.23</td>\n      <td>141,229</td>\n      <td>10,785</td>\n    </tr>\n    <tr>\n      <th>3</th>\n      <td>4</td>\n      <td>Porta Vittoria, Forlanini</td>\n      <td>20.95</td>\n      <td>156.369</td>\n      <td>8,069</td>\n    </tr>\n    <tr>\n      <th>4</th>\n      <td>5</td>\n      <td>Vigentino, Chiaravalle, Gratosoglio</td>\n      <td>29.87</td>\n      <td>123,779</td>\n      <td>4,487</td>\n    </tr>\n    <tr>\n      <th>5</th>\n      <td>6</td>\n      <td>Barona, Lorenteggio</td>\n      <td>18.28</td>\n      <td>149,000</td>\n      <td>8,998</td>\n    </tr>\n    <tr>\n      <th>6</th>\n      <td>7</td>\n      <td>Baggio, De Angeli, San Siro</td>\n      <td>31.34</td>\n      <td>170,814</td>\n      <td>6,093</td>\n    </tr>\n    <tr>\n      <th>7</th>\n      <td>8</td>\n      <td>Fiera, Gallaratese, Quarto Oggiaro</td>\n      <td>23.72</td>\n      <td>181,669</td>\n      <td>8,326</td>\n    </tr>\n    <tr>\n      <th>8</th>\n      <td>9</td>\n      <td>Porta Garibaldi, Niguarda</td>\n      <td>21.12</td>\n      <td>181,598</td>\n      <td>9,204</td>\n    </tr>\n  </tbody>\n</table>\n</div>"
                    }, 
                    "execution_count": 180, 
                    "metadata": {}
                }
            ], 
            "execution_count": 180
        }, 
        {
            "source": "Remove columns not used", 
            "cell_type": "markdown", 
            "metadata": {}
        }, 
        {
            "source": "#we assume the first name found in LongName as name of Municipality\ndf['Shortname'] = df.LongName.str.split(',').str[0]\n# convert Shortname in Capital letters  \ndf['Shortname'] = df.Shortname.str.capitalize() ", 
            "cell_type": "code", 
            "metadata": {}, 
            "outputs": [], 
            "execution_count": 181
        }, 
        {
            "source": "df", 
            "cell_type": "code", 
            "metadata": {}, 
            "outputs": [
                {
                    "output_type": "execute_result", 
                    "data": {
                        "text/plain": "  Num                                           LongName   Area Population  \\\n0   1                                     Centro storico   9.67     96,315   \n1   2  Stazione Centrale, Gorla, Turro, Greco, Cresce...  12.58    153.109   \n2   3               Citt\u00e0 Studi, Lambrate, Porta Venezia  14.23    141,229   \n3   4                          Porta Vittoria, Forlanini  20.95    156.369   \n4   5                Vigentino, Chiaravalle, Gratosoglio  29.87    123,779   \n5   6                                Barona, Lorenteggio  18.28    149,000   \n6   7                        Baggio, De Angeli, San Siro  31.34    170,814   \n7   8                 Fiera, Gallaratese, Quarto Oggiaro  23.72    181,669   \n8   9                          Porta Garibaldi, Niguarda  21.12    181,598   \n\n  Density          Shortname  \n0  11,074     Centro storico  \n1  13,031  Stazione centrale  \n2  10,785        Citt\u00e0 studi  \n3   8,069     Porta vittoria  \n4   4,487          Vigentino  \n5   8,998             Barona  \n6   6,093             Baggio  \n7   8,326              Fiera  \n8   9,204    Porta garibaldi  ", 
                        "text/html": "<div>\n<style scoped>\n    .dataframe tbody tr th:only-of-type {\n        vertical-align: middle;\n    }\n\n    .dataframe tbody tr th {\n        vertical-align: top;\n    }\n\n    .dataframe thead th {\n        text-align: right;\n    }\n</style>\n<table border=\"1\" class=\"dataframe\">\n  <thead>\n    <tr style=\"text-align: right;\">\n      <th></th>\n      <th>Num</th>\n      <th>LongName</th>\n      <th>Area</th>\n      <th>Population</th>\n      <th>Density</th>\n      <th>Shortname</th>\n    </tr>\n  </thead>\n  <tbody>\n    <tr>\n      <th>0</th>\n      <td>1</td>\n      <td>Centro storico</td>\n      <td>9.67</td>\n      <td>96,315</td>\n      <td>11,074</td>\n      <td>Centro storico</td>\n    </tr>\n    <tr>\n      <th>1</th>\n      <td>2</td>\n      <td>Stazione Centrale, Gorla, Turro, Greco, Cresce...</td>\n      <td>12.58</td>\n      <td>153.109</td>\n      <td>13,031</td>\n      <td>Stazione centrale</td>\n    </tr>\n    <tr>\n      <th>2</th>\n      <td>3</td>\n      <td>Citt\u00e0 Studi, Lambrate, Porta Venezia</td>\n      <td>14.23</td>\n      <td>141,229</td>\n      <td>10,785</td>\n      <td>Citt\u00e0 studi</td>\n    </tr>\n    <tr>\n      <th>3</th>\n      <td>4</td>\n      <td>Porta Vittoria, Forlanini</td>\n      <td>20.95</td>\n      <td>156.369</td>\n      <td>8,069</td>\n      <td>Porta vittoria</td>\n    </tr>\n    <tr>\n      <th>4</th>\n      <td>5</td>\n      <td>Vigentino, Chiaravalle, Gratosoglio</td>\n      <td>29.87</td>\n      <td>123,779</td>\n      <td>4,487</td>\n      <td>Vigentino</td>\n    </tr>\n    <tr>\n      <th>5</th>\n      <td>6</td>\n      <td>Barona, Lorenteggio</td>\n      <td>18.28</td>\n      <td>149,000</td>\n      <td>8,998</td>\n      <td>Barona</td>\n    </tr>\n    <tr>\n      <th>6</th>\n      <td>7</td>\n      <td>Baggio, De Angeli, San Siro</td>\n      <td>31.34</td>\n      <td>170,814</td>\n      <td>6,093</td>\n      <td>Baggio</td>\n    </tr>\n    <tr>\n      <th>7</th>\n      <td>8</td>\n      <td>Fiera, Gallaratese, Quarto Oggiaro</td>\n      <td>23.72</td>\n      <td>181,669</td>\n      <td>8,326</td>\n      <td>Fiera</td>\n    </tr>\n    <tr>\n      <th>8</th>\n      <td>9</td>\n      <td>Porta Garibaldi, Niguarda</td>\n      <td>21.12</td>\n      <td>181,598</td>\n      <td>9,204</td>\n      <td>Porta garibaldi</td>\n    </tr>\n  </tbody>\n</table>\n</div>"
                    }, 
                    "execution_count": 182, 
                    "metadata": {}
                }
            ], 
            "execution_count": 182
        }, 
        {
            "source": "### Get geo coordinates of boroughs", 
            "cell_type": "markdown", 
            "metadata": {}
        }, 
        {
            "source": "We use Geopy web service", 
            "cell_type": "markdown", 
            "metadata": {}
        }, 
        {
            "source": "from geopy.geocoders import Nominatim\ngeolocator = Nominatim()\nlocation = geolocator.geocode(\"Milano, MI, Lom, Italia\")\naddress = []\ncoord = []\naddress = df['Shortname']+\", Milano, MI, Lom, Italy\"\ncoord = address.apply(geolocator.geocode).apply(lambda x: (x.latitude, x.longitude))\ndf['Coordinates'] = coord\ndf", 
            "cell_type": "code", 
            "metadata": {}, 
            "outputs": [
                {
                    "output_type": "execute_result", 
                    "data": {
                        "text/plain": "  Num                                           LongName   Area Population  \\\n0   1                                     Centro storico   9.67     96,315   \n1   2  Stazione Centrale, Gorla, Turro, Greco, Cresce...  12.58    153.109   \n2   3               Citt\u00e0 Studi, Lambrate, Porta Venezia  14.23    141,229   \n3   4                          Porta Vittoria, Forlanini  20.95    156.369   \n4   5                Vigentino, Chiaravalle, Gratosoglio  29.87    123,779   \n5   6                                Barona, Lorenteggio  18.28    149,000   \n6   7                        Baggio, De Angeli, San Siro  31.34    170,814   \n7   8                 Fiera, Gallaratese, Quarto Oggiaro  23.72    181,669   \n8   9                          Porta Garibaldi, Niguarda  21.12    181,598   \n\n  Density          Shortname                      Coordinates  \n0  11,074     Centro storico  (45.41921235, 9.07080197950279)  \n1  13,031  Stazione centrale          (45.4866591, 9.2072566)  \n2  10,785        Citt\u00e0 studi          (45.4770557, 9.2265746)  \n3   8,069     Porta vittoria          (45.4622607, 9.2095796)  \n4   4,487          Vigentino          (45.4399296, 9.2004923)  \n5   8,998             Barona          (45.4388451, 9.1546701)  \n6   6,093             Baggio          (45.4614328, 9.0910822)  \n7   8,326              Fiera    (45.5202499, 9.0789880116852)  \n8   9,204    Porta garibaldi          (45.4806652, 9.1868884)  ", 
                        "text/html": "<div>\n<style scoped>\n    .dataframe tbody tr th:only-of-type {\n        vertical-align: middle;\n    }\n\n    .dataframe tbody tr th {\n        vertical-align: top;\n    }\n\n    .dataframe thead th {\n        text-align: right;\n    }\n</style>\n<table border=\"1\" class=\"dataframe\">\n  <thead>\n    <tr style=\"text-align: right;\">\n      <th></th>\n      <th>Num</th>\n      <th>LongName</th>\n      <th>Area</th>\n      <th>Population</th>\n      <th>Density</th>\n      <th>Shortname</th>\n      <th>Coordinates</th>\n    </tr>\n  </thead>\n  <tbody>\n    <tr>\n      <th>0</th>\n      <td>1</td>\n      <td>Centro storico</td>\n      <td>9.67</td>\n      <td>96,315</td>\n      <td>11,074</td>\n      <td>Centro storico</td>\n      <td>(45.41921235, 9.07080197950279)</td>\n    </tr>\n    <tr>\n      <th>1</th>\n      <td>2</td>\n      <td>Stazione Centrale, Gorla, Turro, Greco, Cresce...</td>\n      <td>12.58</td>\n      <td>153.109</td>\n      <td>13,031</td>\n      <td>Stazione centrale</td>\n      <td>(45.4866591, 9.2072566)</td>\n    </tr>\n    <tr>\n      <th>2</th>\n      <td>3</td>\n      <td>Citt\u00e0 Studi, Lambrate, Porta Venezia</td>\n      <td>14.23</td>\n      <td>141,229</td>\n      <td>10,785</td>\n      <td>Citt\u00e0 studi</td>\n      <td>(45.4770557, 9.2265746)</td>\n    </tr>\n    <tr>\n      <th>3</th>\n      <td>4</td>\n      <td>Porta Vittoria, Forlanini</td>\n      <td>20.95</td>\n      <td>156.369</td>\n      <td>8,069</td>\n      <td>Porta vittoria</td>\n      <td>(45.4622607, 9.2095796)</td>\n    </tr>\n    <tr>\n      <th>4</th>\n      <td>5</td>\n      <td>Vigentino, Chiaravalle, Gratosoglio</td>\n      <td>29.87</td>\n      <td>123,779</td>\n      <td>4,487</td>\n      <td>Vigentino</td>\n      <td>(45.4399296, 9.2004923)</td>\n    </tr>\n    <tr>\n      <th>5</th>\n      <td>6</td>\n      <td>Barona, Lorenteggio</td>\n      <td>18.28</td>\n      <td>149,000</td>\n      <td>8,998</td>\n      <td>Barona</td>\n      <td>(45.4388451, 9.1546701)</td>\n    </tr>\n    <tr>\n      <th>6</th>\n      <td>7</td>\n      <td>Baggio, De Angeli, San Siro</td>\n      <td>31.34</td>\n      <td>170,814</td>\n      <td>6,093</td>\n      <td>Baggio</td>\n      <td>(45.4614328, 9.0910822)</td>\n    </tr>\n    <tr>\n      <th>7</th>\n      <td>8</td>\n      <td>Fiera, Gallaratese, Quarto Oggiaro</td>\n      <td>23.72</td>\n      <td>181,669</td>\n      <td>8,326</td>\n      <td>Fiera</td>\n      <td>(45.5202499, 9.0789880116852)</td>\n    </tr>\n    <tr>\n      <th>8</th>\n      <td>9</td>\n      <td>Porta Garibaldi, Niguarda</td>\n      <td>21.12</td>\n      <td>181,598</td>\n      <td>9,204</td>\n      <td>Porta garibaldi</td>\n      <td>(45.4806652, 9.1868884)</td>\n    </tr>\n  </tbody>\n</table>\n</div>"
                    }, 
                    "execution_count": 183, 
                    "metadata": {}
                }
            ], 
            "execution_count": 183
        }, 
        {
            "source": "df[['Latitude', 'Longitude']] = df['Coordinates'].apply(pd.Series)", 
            "cell_type": "code", 
            "metadata": {}, 
            "outputs": [], 
            "execution_count": 184
        }, 
        {
            "source": "df = df.drop(columns=['Coordinates'])", 
            "cell_type": "code", 
            "metadata": {}, 
            "outputs": [], 
            "execution_count": 185
        }, 
        {
            "source": "df", 
            "cell_type": "code", 
            "metadata": {}, 
            "outputs": [
                {
                    "output_type": "execute_result", 
                    "data": {
                        "text/plain": "  Num                                           LongName   Area Population  \\\n0   1                                     Centro storico   9.67     96,315   \n1   2  Stazione Centrale, Gorla, Turro, Greco, Cresce...  12.58    153.109   \n2   3               Citt\u00e0 Studi, Lambrate, Porta Venezia  14.23    141,229   \n3   4                          Porta Vittoria, Forlanini  20.95    156.369   \n4   5                Vigentino, Chiaravalle, Gratosoglio  29.87    123,779   \n5   6                                Barona, Lorenteggio  18.28    149,000   \n6   7                        Baggio, De Angeli, San Siro  31.34    170,814   \n7   8                 Fiera, Gallaratese, Quarto Oggiaro  23.72    181,669   \n8   9                          Porta Garibaldi, Niguarda  21.12    181,598   \n\n  Density          Shortname   Latitude  Longitude  \n0  11,074     Centro storico  45.419212   9.070802  \n1  13,031  Stazione centrale  45.486659   9.207257  \n2  10,785        Citt\u00e0 studi  45.477056   9.226575  \n3   8,069     Porta vittoria  45.462261   9.209580  \n4   4,487          Vigentino  45.439930   9.200492  \n5   8,998             Barona  45.438845   9.154670  \n6   6,093             Baggio  45.461433   9.091082  \n7   8,326              Fiera  45.520250   9.078988  \n8   9,204    Porta garibaldi  45.480665   9.186888  ", 
                        "text/html": "<div>\n<style scoped>\n    .dataframe tbody tr th:only-of-type {\n        vertical-align: middle;\n    }\n\n    .dataframe tbody tr th {\n        vertical-align: top;\n    }\n\n    .dataframe thead th {\n        text-align: right;\n    }\n</style>\n<table border=\"1\" class=\"dataframe\">\n  <thead>\n    <tr style=\"text-align: right;\">\n      <th></th>\n      <th>Num</th>\n      <th>LongName</th>\n      <th>Area</th>\n      <th>Population</th>\n      <th>Density</th>\n      <th>Shortname</th>\n      <th>Latitude</th>\n      <th>Longitude</th>\n    </tr>\n  </thead>\n  <tbody>\n    <tr>\n      <th>0</th>\n      <td>1</td>\n      <td>Centro storico</td>\n      <td>9.67</td>\n      <td>96,315</td>\n      <td>11,074</td>\n      <td>Centro storico</td>\n      <td>45.419212</td>\n      <td>9.070802</td>\n    </tr>\n    <tr>\n      <th>1</th>\n      <td>2</td>\n      <td>Stazione Centrale, Gorla, Turro, Greco, Cresce...</td>\n      <td>12.58</td>\n      <td>153.109</td>\n      <td>13,031</td>\n      <td>Stazione centrale</td>\n      <td>45.486659</td>\n      <td>9.207257</td>\n    </tr>\n    <tr>\n      <th>2</th>\n      <td>3</td>\n      <td>Citt\u00e0 Studi, Lambrate, Porta Venezia</td>\n      <td>14.23</td>\n      <td>141,229</td>\n      <td>10,785</td>\n      <td>Citt\u00e0 studi</td>\n      <td>45.477056</td>\n      <td>9.226575</td>\n    </tr>\n    <tr>\n      <th>3</th>\n      <td>4</td>\n      <td>Porta Vittoria, Forlanini</td>\n      <td>20.95</td>\n      <td>156.369</td>\n      <td>8,069</td>\n      <td>Porta vittoria</td>\n      <td>45.462261</td>\n      <td>9.209580</td>\n    </tr>\n    <tr>\n      <th>4</th>\n      <td>5</td>\n      <td>Vigentino, Chiaravalle, Gratosoglio</td>\n      <td>29.87</td>\n      <td>123,779</td>\n      <td>4,487</td>\n      <td>Vigentino</td>\n      <td>45.439930</td>\n      <td>9.200492</td>\n    </tr>\n    <tr>\n      <th>5</th>\n      <td>6</td>\n      <td>Barona, Lorenteggio</td>\n      <td>18.28</td>\n      <td>149,000</td>\n      <td>8,998</td>\n      <td>Barona</td>\n      <td>45.438845</td>\n      <td>9.154670</td>\n    </tr>\n    <tr>\n      <th>6</th>\n      <td>7</td>\n      <td>Baggio, De Angeli, San Siro</td>\n      <td>31.34</td>\n      <td>170,814</td>\n      <td>6,093</td>\n      <td>Baggio</td>\n      <td>45.461433</td>\n      <td>9.091082</td>\n    </tr>\n    <tr>\n      <th>7</th>\n      <td>8</td>\n      <td>Fiera, Gallaratese, Quarto Oggiaro</td>\n      <td>23.72</td>\n      <td>181,669</td>\n      <td>8,326</td>\n      <td>Fiera</td>\n      <td>45.520250</td>\n      <td>9.078988</td>\n    </tr>\n    <tr>\n      <th>8</th>\n      <td>9</td>\n      <td>Porta Garibaldi, Niguarda</td>\n      <td>21.12</td>\n      <td>181,598</td>\n      <td>9,204</td>\n      <td>Porta garibaldi</td>\n      <td>45.480665</td>\n      <td>9.186888</td>\n    </tr>\n  </tbody>\n</table>\n</div>"
                    }, 
                    "execution_count": 186, 
                    "metadata": {}
                }
            ], 
            "execution_count": 186
        }, 
        {
            "source": "df = df.loc[df['Shortname'].isin([\"Centro storico\", \"Stazione centrale\", \"Citt\u00e0 studi\", \"Porta garibaldi\"])]", 
            "cell_type": "code", 
            "metadata": {}, 
            "outputs": [], 
            "execution_count": 187
        }, 
        {
            "source": "df = df.reset_index(drop=True)\ndf", 
            "cell_type": "code", 
            "metadata": {}, 
            "outputs": [
                {
                    "output_type": "execute_result", 
                    "data": {
                        "text/plain": "  Num                                           LongName   Area Population  \\\n0   1                                     Centro storico   9.67     96,315   \n1   2  Stazione Centrale, Gorla, Turro, Greco, Cresce...  12.58    153.109   \n2   3               Citt\u00e0 Studi, Lambrate, Porta Venezia  14.23    141,229   \n3   9                          Porta Garibaldi, Niguarda  21.12    181,598   \n\n  Density          Shortname   Latitude  Longitude  \n0  11,074     Centro storico  45.419212   9.070802  \n1  13,031  Stazione centrale  45.486659   9.207257  \n2  10,785        Citt\u00e0 studi  45.477056   9.226575  \n3   9,204    Porta garibaldi  45.480665   9.186888  ", 
                        "text/html": "<div>\n<style scoped>\n    .dataframe tbody tr th:only-of-type {\n        vertical-align: middle;\n    }\n\n    .dataframe tbody tr th {\n        vertical-align: top;\n    }\n\n    .dataframe thead th {\n        text-align: right;\n    }\n</style>\n<table border=\"1\" class=\"dataframe\">\n  <thead>\n    <tr style=\"text-align: right;\">\n      <th></th>\n      <th>Num</th>\n      <th>LongName</th>\n      <th>Area</th>\n      <th>Population</th>\n      <th>Density</th>\n      <th>Shortname</th>\n      <th>Latitude</th>\n      <th>Longitude</th>\n    </tr>\n  </thead>\n  <tbody>\n    <tr>\n      <th>0</th>\n      <td>1</td>\n      <td>Centro storico</td>\n      <td>9.67</td>\n      <td>96,315</td>\n      <td>11,074</td>\n      <td>Centro storico</td>\n      <td>45.419212</td>\n      <td>9.070802</td>\n    </tr>\n    <tr>\n      <th>1</th>\n      <td>2</td>\n      <td>Stazione Centrale, Gorla, Turro, Greco, Cresce...</td>\n      <td>12.58</td>\n      <td>153.109</td>\n      <td>13,031</td>\n      <td>Stazione centrale</td>\n      <td>45.486659</td>\n      <td>9.207257</td>\n    </tr>\n    <tr>\n      <th>2</th>\n      <td>3</td>\n      <td>Citt\u00e0 Studi, Lambrate, Porta Venezia</td>\n      <td>14.23</td>\n      <td>141,229</td>\n      <td>10,785</td>\n      <td>Citt\u00e0 studi</td>\n      <td>45.477056</td>\n      <td>9.226575</td>\n    </tr>\n    <tr>\n      <th>3</th>\n      <td>9</td>\n      <td>Porta Garibaldi, Niguarda</td>\n      <td>21.12</td>\n      <td>181,598</td>\n      <td>9,204</td>\n      <td>Porta garibaldi</td>\n      <td>45.480665</td>\n      <td>9.186888</td>\n    </tr>\n  </tbody>\n</table>\n</div>"
                    }, 
                    "execution_count": 188, 
                    "metadata": {}
                }
            ], 
            "execution_count": 188
        }, 
        {
            "source": "### Get average of property price in major municipalities", 
            "cell_type": "markdown", 
            "metadata": {}
        }, 
        {
            "source": "We get data from page \"Mercato Immobiliare a Milano\" by using web scraping technique.", 
            "cell_type": "markdown", 
            "metadata": {}
        }, 
        {
            "source": "response2 = requests.get('https://www.mercato-immobiliare.info/lombardia/milano/milano.html').text\n#soup2 = BeautifulSoup(response2,'lxml')\nsoup2 = BeautifulSoup(response2, 'html.parser')\ntable2 = soup2.find('table', {'id':'childrentable'})", 
            "cell_type": "code", 
            "metadata": {}, 
            "outputs": [], 
            "execution_count": 189
        }, 
        {
            "source": "table_rows2 = table2.find_all('tr')\n\nres = []\nfor tr in table_rows2:\n    td = tr.find_all('td')\n    row = [tr.text.strip() for tr in td if tr.text.strip()]\n    if row:\n        res.append(row)\n\n\ndf2 = pd.DataFrame(res, columns=[\"Shortname\", \"Price\",\"Link\"])\ndf2 = df2.drop(columns=['Link'])", 
            "cell_type": "code", 
            "metadata": {}, 
            "outputs": [], 
            "execution_count": 190
        }, 
        {
            "source": "df2['Shortname'] = df2.Shortname.str.capitalize() ", 
            "cell_type": "code", 
            "metadata": {}, 
            "outputs": [], 
            "execution_count": 191
        }, 
        {
            "source": "We select only data for the major municipalities: Centro Storico, Stazione Centrale, Citt\u00e0 Studi and Porta Garibaldi.\n", 
            "cell_type": "markdown", 
            "metadata": {}
        }, 
        {
            "source": "df2 = df2.loc[df2['Shortname'].isin([\"Centro storico\", \"Stazione centrale\", \"Citt\u00e0 studi\", \"Porta garibaldi\"])]\ndf2 = df2.reset_index(drop=True)\ndf2", 
            "cell_type": "code", 
            "metadata": {}, 
            "outputs": [
                {
                    "output_type": "execute_result", 
                    "data": {
                        "text/plain": "           Shortname        Price\n0     Centro storico  \u20ac 6.500 /m\u00b2\n1        Citt\u00e0 studi  \u20ac 3.950 /m\u00b2\n2    Porta garibaldi  \u20ac 5.500 /m\u00b2\n3  Stazione centrale  \u20ac 4.550 /m\u00b2", 
                        "text/html": "<div>\n<style scoped>\n    .dataframe tbody tr th:only-of-type {\n        vertical-align: middle;\n    }\n\n    .dataframe tbody tr th {\n        vertical-align: top;\n    }\n\n    .dataframe thead th {\n        text-align: right;\n    }\n</style>\n<table border=\"1\" class=\"dataframe\">\n  <thead>\n    <tr style=\"text-align: right;\">\n      <th></th>\n      <th>Shortname</th>\n      <th>Price</th>\n    </tr>\n  </thead>\n  <tbody>\n    <tr>\n      <th>0</th>\n      <td>Centro storico</td>\n      <td>\u20ac 6.500 /m\u00b2</td>\n    </tr>\n    <tr>\n      <th>1</th>\n      <td>Citt\u00e0 studi</td>\n      <td>\u20ac 3.950 /m\u00b2</td>\n    </tr>\n    <tr>\n      <th>2</th>\n      <td>Porta garibaldi</td>\n      <td>\u20ac 5.500 /m\u00b2</td>\n    </tr>\n    <tr>\n      <th>3</th>\n      <td>Stazione centrale</td>\n      <td>\u20ac 4.550 /m\u00b2</td>\n    </tr>\n  </tbody>\n</table>\n</div>"
                    }, 
                    "execution_count": 192, 
                    "metadata": {}
                }
            ], 
            "execution_count": 192
        }, 
        {
            "source": "### Join the datasets", 
            "cell_type": "markdown", 
            "metadata": {}
        }, 
        {
            "source": "df3 = pd.merge(df, df2, on='Shortname', how='inner')", 
            "cell_type": "code", 
            "metadata": {}, 
            "outputs": [], 
            "execution_count": 193
        }, 
        {
            "source": "df3", 
            "cell_type": "code", 
            "metadata": {}, 
            "outputs": [
                {
                    "output_type": "execute_result", 
                    "data": {
                        "text/plain": "  Num                                           LongName   Area Population  \\\n0   1                                     Centro storico   9.67     96,315   \n1   2  Stazione Centrale, Gorla, Turro, Greco, Cresce...  12.58    153.109   \n2   3               Citt\u00e0 Studi, Lambrate, Porta Venezia  14.23    141,229   \n3   9                          Porta Garibaldi, Niguarda  21.12    181,598   \n\n  Density          Shortname   Latitude  Longitude        Price  \n0  11,074     Centro storico  45.419212   9.070802  \u20ac 6.500 /m\u00b2  \n1  13,031  Stazione centrale  45.486659   9.207257  \u20ac 4.550 /m\u00b2  \n2  10,785        Citt\u00e0 studi  45.477056   9.226575  \u20ac 3.950 /m\u00b2  \n3   9,204    Porta garibaldi  45.480665   9.186888  \u20ac 5.500 /m\u00b2  ", 
                        "text/html": "<div>\n<style scoped>\n    .dataframe tbody tr th:only-of-type {\n        vertical-align: middle;\n    }\n\n    .dataframe tbody tr th {\n        vertical-align: top;\n    }\n\n    .dataframe thead th {\n        text-align: right;\n    }\n</style>\n<table border=\"1\" class=\"dataframe\">\n  <thead>\n    <tr style=\"text-align: right;\">\n      <th></th>\n      <th>Num</th>\n      <th>LongName</th>\n      <th>Area</th>\n      <th>Population</th>\n      <th>Density</th>\n      <th>Shortname</th>\n      <th>Latitude</th>\n      <th>Longitude</th>\n      <th>Price</th>\n    </tr>\n  </thead>\n  <tbody>\n    <tr>\n      <th>0</th>\n      <td>1</td>\n      <td>Centro storico</td>\n      <td>9.67</td>\n      <td>96,315</td>\n      <td>11,074</td>\n      <td>Centro storico</td>\n      <td>45.419212</td>\n      <td>9.070802</td>\n      <td>\u20ac 6.500 /m\u00b2</td>\n    </tr>\n    <tr>\n      <th>1</th>\n      <td>2</td>\n      <td>Stazione Centrale, Gorla, Turro, Greco, Cresce...</td>\n      <td>12.58</td>\n      <td>153.109</td>\n      <td>13,031</td>\n      <td>Stazione centrale</td>\n      <td>45.486659</td>\n      <td>9.207257</td>\n      <td>\u20ac 4.550 /m\u00b2</td>\n    </tr>\n    <tr>\n      <th>2</th>\n      <td>3</td>\n      <td>Citt\u00e0 Studi, Lambrate, Porta Venezia</td>\n      <td>14.23</td>\n      <td>141,229</td>\n      <td>10,785</td>\n      <td>Citt\u00e0 studi</td>\n      <td>45.477056</td>\n      <td>9.226575</td>\n      <td>\u20ac 3.950 /m\u00b2</td>\n    </tr>\n    <tr>\n      <th>3</th>\n      <td>9</td>\n      <td>Porta Garibaldi, Niguarda</td>\n      <td>21.12</td>\n      <td>181,598</td>\n      <td>9,204</td>\n      <td>Porta garibaldi</td>\n      <td>45.480665</td>\n      <td>9.186888</td>\n      <td>\u20ac 5.500 /m\u00b2</td>\n    </tr>\n  </tbody>\n</table>\n</div>"
                    }, 
                    "execution_count": 194, 
                    "metadata": {}
                }
            ], 
            "execution_count": 194
        }, 
        {
            "source": "## Conclusion\n### Part 1: Description of Problem and Data Preparation\n\nWe get the Initial Data-Frame with Names of Major Municipalities, and corresponding coordinates of those major districts and average proerty price. Before comparing all the municipalities, since we want to concentrate only on lunch coffee shops targeting the office workers, we need to get the idea about the best business areas in Milan. \nHere we want to concentrate on the best four boroughs:\n\n    Centro storico\n    Stazione Centrale\n    Citt\u00e0 Studi\n    Porta Garibaldi\n    \nSo as the next step we will use Foursquare data and obtain information on coffee shops. With these, we can start with our battle of neighborhoods for opening a coffee shop in Milan.\n", 
            "cell_type": "markdown", 
            "metadata": {}
        }, 
        {
            "source": "", 
            "cell_type": "code", 
            "metadata": {}, 
            "outputs": [], 
            "execution_count": null
        }
    ], 
    "metadata": {
        "kernelspec": {
            "display_name": "Python 3.5", 
            "name": "python3", 
            "language": "python"
        }, 
        "language_info": {
            "mimetype": "text/x-python", 
            "nbconvert_exporter": "python", 
            "version": "3.5.5", 
            "name": "python", 
            "file_extension": ".py", 
            "pygments_lexer": "ipython3", 
            "codemirror_mode": {
                "version": 3, 
                "name": "ipython"
            }
        }
    }, 
    "nbformat": 4
}